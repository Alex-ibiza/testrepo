{
    "cells": [
        {
            "cell_type": "markdown",
            "metadata": {},
            "source": "## Introduction\n\nIn the context of the current health situation in the world, Busy Cities such as New York have a huge need of meditation centers.\n\nMy choice of New York is simple since it is one of the busiest city in the world and it can be used as a model for futur implementations in other major cities in other locations.\n\nIt is well clear that the current health issue with the pandemic that is paralysing activities pushes people to find ways and means to disconnect and relax.\n\nPeople who are well established in the Meditation Businesses need to be encouraged to expand their activities specially now since it is a great opportunity for them to increase their portfolios as well as providing a huge support to their clients.\n\nI have a dataset that support my claims and Foursquare location will come in handy to demonstrate my saying.\n\nUsing the Foursquare Location I can prove that the top venues of New York are very sensitive and compatible to one who is interested in meditation beside norlmal daily activities.\n\nAs you will find out during next week presentation, that it is crucial to think to invest in additional meditation centers around busy cities which are in lack and shortage of these activities. Happy Investment!"
        },
        {
            "cell_type": "markdown",
            "metadata": {},
            "source": "## Let's start!"
        },
        {
            "cell_type": "code",
            "execution_count": 0,
            "metadata": {
                "_kg_hide-input": false
            },
            "outputs": [],
            "source": "from mpl_toolkits.mplot3d import Axes3D\nfrom sklearn.preprocessing import StandardScaler\nimport matplotlib.pyplot as plt # plotting\nimport numpy as np # linear algebra\nimport os # accessing directory structure\nimport pandas as pd # data processing, CSV file I/O (e.g. pd.read_csv)\n"
        },
        {
            "cell_type": "markdown",
            "metadata": {},
            "source": "There are 2 csv files in the current version of the dataset:\n"
        },
        {
            "cell_type": "code",
            "execution_count": 0,
            "metadata": {
                "_kg_hide-input": false
            },
            "outputs": [],
            "source": "print(os.listdir('../input'))"
        },
        {
            "cell_type": "markdown",
            "metadata": {},
            "source": ""
        },
        {
            "cell_type": "code",
            "execution_count": 0,
            "metadata": {
                "_kg_hide-input": true,
                "collapsed": true
            },
            "outputs": [],
            "source": "\ndef plotPerColumnDistribution(df, nGraphShown, nGraphPerRow):\n    nunique = df.nunique()\n    df = df[[col for col in df if nunique[col] > 1 and nunique[col] < 50]] \n    nRow, nCol = df.shape\n    columnNames = list(df)\n    nGraphRow = (nCol + nGraphPerRow - 1) / nGraphPerRow\n    plt.figure(num = None, figsize = (6 * nGraphPerRow, 8 * nGraphRow), dpi = 80, facecolor = 'w', edgecolor = 'k')\n    for i in range(min(nCol, nGraphShown)):\n        plt.subplot(nGraphRow, nGraphPerRow, i + 1)\n        columnDf = df.iloc[:, i]\n        if (not np.issubdtype(type(columnDf.iloc[0]), np.number)):\n            valueCounts = columnDf.value_counts()\n            valueCounts.plot.bar()\n        else:\n            columnDf.hist()\n        plt.ylabel('counts')\n        plt.xticks(rotation = 90)\n        plt.title(f'{columnNames[i]} (column {i})')\n    plt.tight_layout(pad = 1.0, w_pad = 1.0, h_pad = 1.0)\n    plt.show()\n"
        },
        {
            "cell_type": "code",
            "execution_count": 0,
            "metadata": {
                "_kg_hide-input": true,
                "collapsed": true
            },
            "outputs": [],
            "source": "\ndef plotCorrelationMatrix(df, graphWidth):\n    filename = df.dataframeName\n    df = df.dropna('columns') # drop columns with NaN\n    df = df[[col for col in df if df[col].nunique() > 1]] \n    if df.shape[1] < 2:\n        print(f'No correlation plots shown: The number of non-NaN or constant columns ({df.shape[1]}) is less than 2')\n        return\n    corr = df.corr()\n    plt.figure(num=None, figsize=(graphWidth, graphWidth), dpi=80, facecolor='w', edgecolor='k')\n    corrMat = plt.matshow(corr, fignum = 1)\n    plt.xticks(range(len(corr.columns)), corr.columns, rotation=90)\n    plt.yticks(range(len(corr.columns)), corr.columns)\n    plt.gca().xaxis.tick_bottom()\n    plt.colorbar(corrMat)\n    plt.title(f'Correlation Matrix for {filename}', fontsize=15)\n    plt.show()\n"
        },
        {
            "cell_type": "code",
            "execution_count": 0,
            "metadata": {
                "_kg_hide-input": true,
                "collapsed": true
            },
            "outputs": [],
            "source": "\ndef plotScatterMatrix(df, plotSize, textSize):\n    df = df.select_dtypes(include =[np.number]) \n    df = df.dropna('columns')\n    df = df[[col for col in df if df[col].nunique() > 1]] \n    columnNames = list(df)\n    if len(columnNames) > 10: \n        columnNames = columnNames[:10]\n    df = df[columnNames]\n    ax = pd.plotting.scatter_matrix(df, alpha=0.75, figsize=[plotSize, plotSize], diagonal='kde')\n    corrs = df.corr().values\n    for i, j in zip(*plt.np.triu_indices_from(ax, k = 1)):\n        ax[i, j].annotate('Corr. coef = %.3f' % corrs[i, j], (0.8, 0.2), xycoords='axes fraction', ha='center', va='center', size=textSize)\n    plt.suptitle('Scatter and Density Plot')\n    plt.show()\n"
        },
        {
            "cell_type": "markdown",
            "metadata": {},
            "source": "Now you're ready to read in the data and use the plotting functions to visualize the data."
        },
        {
            "cell_type": "markdown",
            "metadata": {},
            "source": "### Let's check 1st file: ../input/meditating.csv"
        },
        {
            "cell_type": "code",
            "execution_count": 0,
            "metadata": {
                "_kg_hide-input": false
            },
            "outputs": [],
            "source": "nRowsRead = 1000 \ndf1 = pd.read_csv('../input/meditating.csv', delimiter=',', nrows = nRowsRead)\ndf1.dataframeName = 'meditating.csv'\nnRow, nCol = df1.shape\nprint(f'There are {nRow} rows and {nCol} columns')"
        },
        {
            "cell_type": "markdown",
            "metadata": {},
            "source": ""
        },
        {
            "cell_type": "code",
            "execution_count": 0,
            "metadata": {
                "_kg_hide-input": false
            },
            "outputs": [],
            "source": "df1.head(5)"
        },
        {
            "cell_type": "markdown",
            "metadata": {},
            "source": ""
        },
        {
            "cell_type": "code",
            "execution_count": 0,
            "metadata": {
                "_kg_hide-input": false
            },
            "outputs": [],
            "source": "plotPerColumnDistribution(df1, 10, 5)"
        },
        {
            "cell_type": "markdown",
            "metadata": {},
            "source": "### Let's check 2nd file: ../input/thinking.csv"
        },
        {
            "cell_type": "code",
            "execution_count": 0,
            "metadata": {
                "_kg_hide-input": false
            },
            "outputs": [],
            "source": "nRowsRead = 1000 \ndf2 = pd.read_csv('../input/thinking.csv', delimiter=',', nrows = nRowsRead)\ndf2.dataframeName = 'thinking.csv'\nnCol = df2.shape\nprint(f'There are {nRow} rows and {nCol} columns')"
        },
        {
            "cell_type": "markdown",
            "metadata": {},
            "source": ""
        },
        {
            "cell_type": "code",
            "execution_count": 0,
            "metadata": {
                "_kg_hide-input": false
            },
            "outputs": [],
            "source": "df2.head(5)"
        },
        {
            "cell_type": "markdown",
            "metadata": {},
            "source": ""
        },
        {
            "cell_type": "code",
            "execution_count": 0,
            "metadata": {
                "_kg_hide-input": false
            },
            "outputs": [],
            "source": "plotPerColumnDistribution(df2, 10, 5)"
        },
        {
            "cell_type": "markdown",
            "metadata": {},
            "source": ""
        }
    ],
    "metadata": {
        "kernelspec": {
            "display_name": "Python 3.7",
            "language": "python",
            "name": "python3"
        },
        "language_info": {
            "codemirror_mode": {
                "name": "ipython",
                "version": 3
            },
            "file_extension": ".py",
            "mimetype": "text/x-python",
            "name": "python",
            "nbconvert_exporter": "python",
            "pygments_lexer": "ipython3",
            "version": "3.7.9"
        }
    },
    "nbformat": 4,
    "nbformat_minor": 1
}